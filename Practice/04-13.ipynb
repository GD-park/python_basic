{
 "cells": [
  {
   "cell_type": "code",
   "execution_count": 29,
   "metadata": {
    "collapsed": true
   },
   "outputs": [],
   "source": [
    "animals = [\"cat\", \"cow\", \"dog\", \"bull\"]\n",
    "my_information = {\"name\" : \"JY\", \"phone_num\" : \"010-9354\", \"email\" : \"jiyong\"}"
   ]
  },
  {
   "cell_type": "code",
   "execution_count": 7,
   "metadata": {
    "collapsed": false
   },
   "outputs": [
    {
     "name": "stdout",
     "output_type": "stream",
     "text": [
      "cat\n",
      "cow\n",
      "dog\n",
      "bull\n"
     ]
    }
   ],
   "source": [
    "for i in animals:\n",
    "    print i"
   ]
  },
  {
   "cell_type": "code",
   "execution_count": 27,
   "metadata": {
    "collapsed": false
   },
   "outputs": [
    {
     "name": "stdout",
     "output_type": "stream",
     "text": [
      "phone_num\n",
      "010-9354\n",
      "name\n",
      "JY\n",
      "email\n",
      "jiyong\n"
     ]
    }
   ],
   "source": [
    "for my_information in my_information.items():\n",
    "    key, value = my_information  #대입 연산자\n",
    "    print key\n",
    "    print value"
   ]
  },
  {
   "cell_type": "code",
   "execution_count": 30,
   "metadata": {
    "collapsed": false
   },
   "outputs": [
    {
     "name": "stdout",
     "output_type": "stream",
     "text": [
      "phone_num\n",
      "010-9354\n",
      "name\n",
      "JY\n",
      "email\n",
      "jiyong\n"
     ]
    }
   ],
   "source": [
    "for key, value in my_information.items():\n",
    "    print key\n",
    "    print value"
   ]
  },
  {
   "cell_type": "code",
   "execution_count": 80,
   "metadata": {
    "collapsed": true
   },
   "outputs": [],
   "source": [
    "friends = [\"jy\",\"jd\",\"ey\",\"hy\"]"
   ]
  },
  {
   "cell_type": "code",
   "execution_count": 53,
   "metadata": {
    "collapsed": false
   },
   "outputs": [
    {
     "name": "stdout",
     "output_type": "stream",
     "text": [
      "jy\n",
      "jd\n",
      "Gd\n",
      "hy\n"
     ]
    }
   ],
   "source": [
    "for i in range(len(friends)):\n",
    "    if i == 2:\n",
    "        friends[i] = \"Gd\"\n",
    "    print(friends[i])\n",
    "    "
   ]
  },
  {
   "cell_type": "code",
   "execution_count": 71,
   "metadata": {
    "collapsed": false
   },
   "outputs": [
    {
     "data": {
      "text/plain": [
       "0"
      ]
     },
     "execution_count": 71,
     "metadata": {},
     "output_type": "execute_result"
    }
   ],
   "source": [
    "friends.index(\"jy\")"
   ]
  },
  {
   "cell_type": "code",
   "execution_count": 81,
   "metadata": {
    "collapsed": false
   },
   "outputs": [
    {
     "name": "stdout",
     "output_type": "stream",
     "text": [
      "jy\n",
      "jd\n",
      "ey\n",
      "GD\n"
     ]
    }
   ],
   "source": [
    "for i in friends:\n",
    "    index = friends.index(i)\n",
    "    if index == 3:\n",
    "        friends[index] = \"GD\"\n",
    "    print friends[index]"
   ]
  },
  {
   "cell_type": "code",
   "execution_count": 82,
   "metadata": {
    "collapsed": false
   },
   "outputs": [
    {
     "name": "stdout",
     "output_type": "stream",
     "text": [
      "(0, 'jy')\n",
      "(1, 'jd')\n",
      "(2, 'ey')\n",
      "(3, 'GD')\n"
     ]
    }
   ],
   "source": [
    "for i in enumerate(friends):\n",
    "    print i"
   ]
  },
  {
   "cell_type": "code",
   "execution_count": 78,
   "metadata": {
    "collapsed": false
   },
   "outputs": [
    {
     "name": "stdout",
     "output_type": "stream",
     "text": [
      "jy\n",
      "jd\n",
      "ey\n",
      "GD\n"
     ]
    }
   ],
   "source": [
    "for index, value in enumerate(friends):\n",
    "    if index == 3:\n",
    "        friends[index] = \"GD\"\n",
    "    print friends[index]"
   ]
  },
  {
   "cell_type": "code",
   "execution_count": 119,
   "metadata": {
    "collapsed": false
   },
   "outputs": [],
   "source": [
    "#소수 구하기\n",
    "def get_prime_number(number):\n",
    "    a = []\n",
    "    for i in range(2, number):\n",
    "        if number % i != 0 :\n",
    "            a.append(i)\n",
    "    return a\n",
    "        "
   ]
  },
  {
   "cell_type": "code",
   "execution_count": 120,
   "metadata": {
    "collapsed": false
   },
   "outputs": [
    {
     "data": {
      "text/plain": [
       "[3, 6, 7, 8, 9, 11, 12, 13, 14, 15, 16, 17, 18, 19]"
      ]
     },
     "execution_count": 120,
     "metadata": {},
     "output_type": "execute_result"
    }
   ],
   "source": [
    "get_prime_number(20)"
   ]
  }
 ],
 "metadata": {
  "kernelspec": {
   "display_name": "Python 2",
   "language": "python",
   "name": "python2"
  },
  "language_info": {
   "codemirror_mode": {
    "name": "ipython",
    "version": 2
   },
   "file_extension": ".py",
   "mimetype": "text/x-python",
   "name": "python",
   "nbconvert_exporter": "python",
   "pygments_lexer": "ipython2",
   "version": "2.7.13"
  }
 },
 "nbformat": 4,
 "nbformat_minor": 2
}
