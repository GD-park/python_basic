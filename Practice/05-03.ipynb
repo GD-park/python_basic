{
 "cells": [
  {
   "cell_type": "code",
   "execution_count": 1,
   "metadata": {
    "collapsed": false
   },
   "outputs": [
    {
     "data": {
      "text/html": [
       "<div>\n",
       "<table border=\"1\" class=\"dataframe\">\n",
       "  <thead>\n",
       "    <tr style=\"text-align: right;\">\n",
       "      <th></th>\n",
       "      <th>survived</th>\n",
       "      <th>pclass</th>\n",
       "      <th>sex</th>\n",
       "      <th>age</th>\n",
       "      <th>sibsp</th>\n",
       "      <th>parch</th>\n",
       "      <th>fare</th>\n",
       "      <th>embarked</th>\n",
       "      <th>class</th>\n",
       "      <th>who</th>\n",
       "      <th>adult_male</th>\n",
       "      <th>deck</th>\n",
       "      <th>embark_town</th>\n",
       "      <th>alive</th>\n",
       "      <th>alone</th>\n",
       "    </tr>\n",
       "  </thead>\n",
       "  <tbody>\n",
       "    <tr>\n",
       "      <th>886</th>\n",
       "      <td>0</td>\n",
       "      <td>2</td>\n",
       "      <td>male</td>\n",
       "      <td>27.0</td>\n",
       "      <td>0</td>\n",
       "      <td>0</td>\n",
       "      <td>13.00</td>\n",
       "      <td>S</td>\n",
       "      <td>Second</td>\n",
       "      <td>man</td>\n",
       "      <td>True</td>\n",
       "      <td>NaN</td>\n",
       "      <td>Southampton</td>\n",
       "      <td>no</td>\n",
       "      <td>True</td>\n",
       "    </tr>\n",
       "    <tr>\n",
       "      <th>887</th>\n",
       "      <td>1</td>\n",
       "      <td>1</td>\n",
       "      <td>female</td>\n",
       "      <td>19.0</td>\n",
       "      <td>0</td>\n",
       "      <td>0</td>\n",
       "      <td>30.00</td>\n",
       "      <td>S</td>\n",
       "      <td>First</td>\n",
       "      <td>woman</td>\n",
       "      <td>False</td>\n",
       "      <td>B</td>\n",
       "      <td>Southampton</td>\n",
       "      <td>yes</td>\n",
       "      <td>True</td>\n",
       "    </tr>\n",
       "    <tr>\n",
       "      <th>888</th>\n",
       "      <td>0</td>\n",
       "      <td>3</td>\n",
       "      <td>female</td>\n",
       "      <td>NaN</td>\n",
       "      <td>1</td>\n",
       "      <td>2</td>\n",
       "      <td>23.45</td>\n",
       "      <td>S</td>\n",
       "      <td>Third</td>\n",
       "      <td>woman</td>\n",
       "      <td>False</td>\n",
       "      <td>NaN</td>\n",
       "      <td>Southampton</td>\n",
       "      <td>no</td>\n",
       "      <td>False</td>\n",
       "    </tr>\n",
       "    <tr>\n",
       "      <th>889</th>\n",
       "      <td>1</td>\n",
       "      <td>1</td>\n",
       "      <td>male</td>\n",
       "      <td>26.0</td>\n",
       "      <td>0</td>\n",
       "      <td>0</td>\n",
       "      <td>30.00</td>\n",
       "      <td>C</td>\n",
       "      <td>First</td>\n",
       "      <td>man</td>\n",
       "      <td>True</td>\n",
       "      <td>C</td>\n",
       "      <td>Cherbourg</td>\n",
       "      <td>yes</td>\n",
       "      <td>True</td>\n",
       "    </tr>\n",
       "    <tr>\n",
       "      <th>890</th>\n",
       "      <td>0</td>\n",
       "      <td>3</td>\n",
       "      <td>male</td>\n",
       "      <td>32.0</td>\n",
       "      <td>0</td>\n",
       "      <td>0</td>\n",
       "      <td>7.75</td>\n",
       "      <td>Q</td>\n",
       "      <td>Third</td>\n",
       "      <td>man</td>\n",
       "      <td>True</td>\n",
       "      <td>NaN</td>\n",
       "      <td>Queenstown</td>\n",
       "      <td>no</td>\n",
       "      <td>True</td>\n",
       "    </tr>\n",
       "  </tbody>\n",
       "</table>\n",
       "</div>"
      ],
      "text/plain": [
       "     survived  pclass     sex   age  sibsp  parch   fare embarked   class  \\\n",
       "886         0       2    male  27.0      0      0  13.00        S  Second   \n",
       "887         1       1  female  19.0      0      0  30.00        S   First   \n",
       "888         0       3  female   NaN      1      2  23.45        S   Third   \n",
       "889         1       1    male  26.0      0      0  30.00        C   First   \n",
       "890         0       3    male  32.0      0      0   7.75        Q   Third   \n",
       "\n",
       "       who adult_male deck  embark_town alive  alone  \n",
       "886    man       True  NaN  Southampton    no   True  \n",
       "887  woman      False    B  Southampton   yes   True  \n",
       "888  woman      False  NaN  Southampton    no  False  \n",
       "889    man       True    C    Cherbourg   yes   True  \n",
       "890    man       True  NaN   Queenstown    no   True  "
      ]
     },
     "execution_count": 1,
     "metadata": {},
     "output_type": "execute_result"
    }
   ],
   "source": [
    "import pandas as pd\n",
    "df = pd.read_csv('https://raw.githubusercontent.com/datascienceschool/docker_rpython/master/data/titanic.csv')\n",
    "df.tail()"
   ]
  },
  {
   "cell_type": "markdown",
   "metadata": {},
   "source": [
    "- column explanation\n",
    "\n",
    "survived : 생존여부\n",
    "pclass : 1,2,3등석\n",
    "sex : 성별\n",
    "age : 나이\n",
    "sibsb : 같이 탑승한 형제, 배우자수\n",
    "parch : 같이 탑승한 부모, 자녀의수\n",
    "fare : 요금\n",
    "embarked : 탑승한곳"
   ]
  },
  {
   "cell_type": "code",
   "execution_count": 2,
   "metadata": {
    "collapsed": false
   },
   "outputs": [
    {
     "data": {
      "text/html": [
       "<div>\n",
       "<table border=\"1\" class=\"dataframe\">\n",
       "  <thead>\n",
       "    <tr style=\"text-align: right;\">\n",
       "      <th></th>\n",
       "      <th>survived</th>\n",
       "      <th>pclass</th>\n",
       "      <th>sex</th>\n",
       "      <th>age</th>\n",
       "      <th>sibsp</th>\n",
       "      <th>parch</th>\n",
       "      <th>fare</th>\n",
       "      <th>embarked</th>\n",
       "    </tr>\n",
       "  </thead>\n",
       "  <tbody>\n",
       "    <tr>\n",
       "      <th>886</th>\n",
       "      <td>0</td>\n",
       "      <td>2</td>\n",
       "      <td>male</td>\n",
       "      <td>27.0</td>\n",
       "      <td>0</td>\n",
       "      <td>0</td>\n",
       "      <td>13.00</td>\n",
       "      <td>S</td>\n",
       "    </tr>\n",
       "    <tr>\n",
       "      <th>887</th>\n",
       "      <td>1</td>\n",
       "      <td>1</td>\n",
       "      <td>female</td>\n",
       "      <td>19.0</td>\n",
       "      <td>0</td>\n",
       "      <td>0</td>\n",
       "      <td>30.00</td>\n",
       "      <td>S</td>\n",
       "    </tr>\n",
       "    <tr>\n",
       "      <th>888</th>\n",
       "      <td>0</td>\n",
       "      <td>3</td>\n",
       "      <td>female</td>\n",
       "      <td>NaN</td>\n",
       "      <td>1</td>\n",
       "      <td>2</td>\n",
       "      <td>23.45</td>\n",
       "      <td>S</td>\n",
       "    </tr>\n",
       "    <tr>\n",
       "      <th>889</th>\n",
       "      <td>1</td>\n",
       "      <td>1</td>\n",
       "      <td>male</td>\n",
       "      <td>26.0</td>\n",
       "      <td>0</td>\n",
       "      <td>0</td>\n",
       "      <td>30.00</td>\n",
       "      <td>C</td>\n",
       "    </tr>\n",
       "    <tr>\n",
       "      <th>890</th>\n",
       "      <td>0</td>\n",
       "      <td>3</td>\n",
       "      <td>male</td>\n",
       "      <td>32.0</td>\n",
       "      <td>0</td>\n",
       "      <td>0</td>\n",
       "      <td>7.75</td>\n",
       "      <td>Q</td>\n",
       "    </tr>\n",
       "  </tbody>\n",
       "</table>\n",
       "</div>"
      ],
      "text/plain": [
       "     survived  pclass     sex   age  sibsp  parch   fare embarked\n",
       "886         0       2    male  27.0      0      0  13.00        S\n",
       "887         1       1  female  19.0      0      0  30.00        S\n",
       "888         0       3  female   NaN      1      2  23.45        S\n",
       "889         1       1    male  26.0      0      0  30.00        C\n",
       "890         0       3    male  32.0      0      0   7.75        Q"
      ]
     },
     "execution_count": 2,
     "metadata": {},
     "output_type": "execute_result"
    }
   ],
   "source": [
    "df1 = df.ix[:,0:8]\n",
    "df1.tail()  # 박사님께서 설명을 위해 뒷부분에 컬럼을 채워놓은 것같아서 who 부터 끝까지 잘랐습니다"
   ]
  },
  {
   "cell_type": "code",
   "execution_count": 3,
   "metadata": {
    "collapsed": false
   },
   "outputs": [
    {
     "name": "stderr",
     "output_type": "stream",
     "text": [
      "c:\\python27\\lib\\site-packages\\numpy\\lib\\arraysetops.py:216: FutureWarning: numpy not_equal will not check object identity in the future. The comparison did not return the same result as suggested by the identity (`is`)) and will change.\n",
      "  flag = np.concatenate(([True], aux[1:] != aux[:-1]))\n"
     ]
    }
   ],
   "source": [
    "from sklearn.preprocessing import LabelEncoder\n",
    "le = LabelEncoder()\n",
    "df1['sex']= le.fit_transform(df1['sex'])\n",
    "df1['embarked'] = le.fit_transform(df1['embarked'])"
   ]
  },
  {
   "cell_type": "code",
   "execution_count": 4,
   "metadata": {
    "collapsed": false
   },
   "outputs": [
    {
     "data": {
      "text/plain": [
       "array([[  0.    ,   3.    ,   1.    , ...,   0.    ,   7.25  ,   3.    ],\n",
       "       [  1.    ,   1.    ,   0.    , ...,   0.    ,  71.2833,   1.    ],\n",
       "       [  1.    ,   3.    ,   0.    , ...,   0.    ,   7.925 ,   3.    ],\n",
       "       ..., \n",
       "       [  0.    ,   3.    ,   0.    , ...,   2.    ,  23.45  ,   3.    ],\n",
       "       [  1.    ,   1.    ,   1.    , ...,   0.    ,  30.    ,   1.    ],\n",
       "       [  0.    ,   3.    ,   1.    , ...,   0.    ,   7.75  ,   2.    ]])"
      ]
     },
     "execution_count": 4,
     "metadata": {},
     "output_type": "execute_result"
    }
   ],
   "source": [
    "from sklearn.preprocessing import Imputer\n",
    "imp = Imputer(missing_values='NaN', strategy = 'median', axis = 0)\n",
    "df2 = imp.fit_transform(df1)\n",
    "df2"
   ]
  },
  {
   "cell_type": "code",
   "execution_count": 5,
   "metadata": {
    "collapsed": false
   },
   "outputs": [
    {
     "data": {
      "text/html": [
       "<div>\n",
       "<table border=\"1\" class=\"dataframe\">\n",
       "  <thead>\n",
       "    <tr style=\"text-align: right;\">\n",
       "      <th></th>\n",
       "      <th>survived</th>\n",
       "      <th>pclass</th>\n",
       "      <th>sex</th>\n",
       "      <th>age</th>\n",
       "      <th>sibsp</th>\n",
       "      <th>parch</th>\n",
       "      <th>fare</th>\n",
       "      <th>embarked</th>\n",
       "    </tr>\n",
       "  </thead>\n",
       "  <tbody>\n",
       "    <tr>\n",
       "      <th>886</th>\n",
       "      <td>0.0</td>\n",
       "      <td>2.0</td>\n",
       "      <td>1.0</td>\n",
       "      <td>27.0</td>\n",
       "      <td>0.0</td>\n",
       "      <td>0.0</td>\n",
       "      <td>13.00</td>\n",
       "      <td>3.0</td>\n",
       "    </tr>\n",
       "    <tr>\n",
       "      <th>887</th>\n",
       "      <td>1.0</td>\n",
       "      <td>1.0</td>\n",
       "      <td>0.0</td>\n",
       "      <td>19.0</td>\n",
       "      <td>0.0</td>\n",
       "      <td>0.0</td>\n",
       "      <td>30.00</td>\n",
       "      <td>3.0</td>\n",
       "    </tr>\n",
       "    <tr>\n",
       "      <th>888</th>\n",
       "      <td>0.0</td>\n",
       "      <td>3.0</td>\n",
       "      <td>0.0</td>\n",
       "      <td>28.0</td>\n",
       "      <td>1.0</td>\n",
       "      <td>2.0</td>\n",
       "      <td>23.45</td>\n",
       "      <td>3.0</td>\n",
       "    </tr>\n",
       "    <tr>\n",
       "      <th>889</th>\n",
       "      <td>1.0</td>\n",
       "      <td>1.0</td>\n",
       "      <td>1.0</td>\n",
       "      <td>26.0</td>\n",
       "      <td>0.0</td>\n",
       "      <td>0.0</td>\n",
       "      <td>30.00</td>\n",
       "      <td>1.0</td>\n",
       "    </tr>\n",
       "    <tr>\n",
       "      <th>890</th>\n",
       "      <td>0.0</td>\n",
       "      <td>3.0</td>\n",
       "      <td>1.0</td>\n",
       "      <td>32.0</td>\n",
       "      <td>0.0</td>\n",
       "      <td>0.0</td>\n",
       "      <td>7.75</td>\n",
       "      <td>2.0</td>\n",
       "    </tr>\n",
       "  </tbody>\n",
       "</table>\n",
       "</div>"
      ],
      "text/plain": [
       "     survived  pclass  sex   age  sibsp  parch   fare  embarked\n",
       "886       0.0     2.0  1.0  27.0    0.0    0.0  13.00       3.0\n",
       "887       1.0     1.0  0.0  19.0    0.0    0.0  30.00       3.0\n",
       "888       0.0     3.0  0.0  28.0    1.0    2.0  23.45       3.0\n",
       "889       1.0     1.0  1.0  26.0    0.0    0.0  30.00       1.0\n",
       "890       0.0     3.0  1.0  32.0    0.0    0.0   7.75       2.0"
      ]
     },
     "execution_count": 5,
     "metadata": {},
     "output_type": "execute_result"
    }
   ],
   "source": [
    "df3 = pd.DataFrame(df2, columns = ['survived', 'pclass','sex','age','sibsp','parch','fare','embarked'])\n",
    "df3.tail()"
   ]
  },
  {
   "cell_type": "code",
   "execution_count": 6,
   "metadata": {
    "collapsed": false
   },
   "outputs": [
    {
     "name": "stdout",
     "output_type": "stream",
     "text": [
      "<class 'pandas.core.frame.DataFrame'>\n",
      "RangeIndex: 891 entries, 0 to 890\n",
      "Data columns (total 8 columns):\n",
      "survived    891 non-null float64\n",
      "pclass      891 non-null float64\n",
      "sex         891 non-null float64\n",
      "age         891 non-null float64\n",
      "sibsp       891 non-null float64\n",
      "parch       891 non-null float64\n",
      "fare        891 non-null float64\n",
      "embarked    891 non-null float64\n",
      "dtypes: float64(8)\n",
      "memory usage: 55.7 KB\n"
     ]
    }
   ],
   "source": [
    "df3.info()"
   ]
  },
  {
   "cell_type": "code",
   "execution_count": 6,
   "metadata": {
    "collapsed": false
   },
   "outputs": [],
   "source": [
    "y = df3.ix[:,0]\n",
    "x = df3.ix[:,1:]"
   ]
  },
  {
   "cell_type": "markdown",
   "metadata": {},
   "source": [
    "# train_test split"
   ]
  },
  {
   "cell_type": "code",
   "execution_count": 7,
   "metadata": {
    "collapsed": false
   },
   "outputs": [],
   "source": [
    "from sklearn.model_selection import train_test_split\n",
    "x_train, x_test, y_train, y_test = train_test_split(x, y, test_size = 0.33, random_state= 42 )"
   ]
  },
  {
   "cell_type": "markdown",
   "metadata": {},
   "source": [
    "## QDA"
   ]
  },
  {
   "cell_type": "code",
   "execution_count": 8,
   "metadata": {
    "collapsed": false
   },
   "outputs": [],
   "source": [
    "from sklearn.discriminant_analysis import QuadraticDiscriminantAnalysis\n",
    "qda = QuadraticDiscriminantAnalysis(store_covariances = True).fit(x,y)"
   ]
  },
  {
   "cell_type": "code",
   "execution_count": 84,
   "metadata": {
    "collapsed": false
   },
   "outputs": [
    {
     "data": {
      "text/plain": [
       "array([ 0.61616162,  0.38383838])"
      ]
     },
     "execution_count": 84,
     "metadata": {},
     "output_type": "execute_result"
    }
   ],
   "source": [
    "qda.priors_"
   ]
  },
  {
   "cell_type": "code",
   "execution_count": 90,
   "metadata": {
    "collapsed": false
   },
   "outputs": [
    {
     "data": {
      "text/plain": [
       "0.6161616161616161"
      ]
     },
     "execution_count": 90,
     "metadata": {},
     "output_type": "execute_result"
    }
   ],
   "source": [
    "549.0/(549 + 342)"
   ]
  },
  {
   "cell_type": "code",
   "execution_count": 73,
   "metadata": {
    "collapsed": false
   },
   "outputs": [
    {
     "data": {
      "text/plain": [
       "array([[  2.53187614,   0.85245902,  30.02823315,   0.55373406,\n",
       "          0.32969035,  22.11788689,   2.64116576],\n",
       "       [  1.9502924 ,   0.31871345,  28.29143275,   0.47368421,\n",
       "          0.46491228,  48.3954076 ,   2.35087719]])"
      ]
     },
     "execution_count": 73,
     "metadata": {},
     "output_type": "execute_result"
    }
   ],
   "source": [
    "qda.means_"
   ]
  },
  {
   "cell_type": "code",
   "execution_count": 75,
   "metadata": {
    "collapsed": false
   },
   "outputs": [
    {
     "data": {
      "text/plain": [
       "[array([[  5.41409065e-01,  -4.72956803e-02,  -3.62544540e+00,\n",
       "           1.19178201e-01,   4.14788667e-02,  -1.19491607e+01,\n",
       "           5.61671520e-02],\n",
       "        [ -4.72956803e-02,   1.26002154e-01,   6.44684097e-01,\n",
       "          -9.69845638e-02,  -1.04553069e-01,  -1.33989712e-01,\n",
       "          -3.76929520e-03],\n",
       "        [ -3.62544540e+00,   6.44684097e-01,   1.56249658e+02,\n",
       "          -4.67077168e+00,  -8.52390877e-01,   2.81618757e+01,\n",
       "          -4.10470929e-01],\n",
       "        [  1.19178201e-01,  -9.69845638e-02,  -4.67077168e+00,\n",
       "           1.65997235e+00,   5.06887107e-01,   1.14085927e+01,\n",
       "           8.59226464e-02],\n",
       "        [  4.14788667e-02,  -1.04553069e-01,  -8.52390877e-01,\n",
       "           5.06887107e-01,   6.77602276e-01,   8.97361674e+00,\n",
       "           2.54543762e-02],\n",
       "        [ -1.19491607e+01,  -1.33989712e-01,   2.81618757e+01,\n",
       "           1.14085927e+01,   8.97361674e+00,   9.85219509e+02,\n",
       "          -2.89427734e+00],\n",
       "        [  5.61671520e-02,  -3.76929520e-03,  -4.10470929e-01,\n",
       "           8.59226464e-02,   2.54543762e-02,  -2.89427734e+00,\n",
       "           5.04214697e-01]]),\n",
       " array([[  7.45322495e-01,   2.17540430e-02,  -4.45467931e+00,\n",
       "          -2.03735144e-02,   1.43797911e-02,  -3.09392328e+01,\n",
       "           1.08401502e-01],\n",
       "        [  2.17540430e-02,   2.17771947e-01,  -2.90604603e-01,\n",
       "          -2.82450996e-02,  -3.42388229e-02,  -2.42099011e+00,\n",
       "           2.86052374e-02],\n",
       "        [ -4.45467931e+00,  -2.90604603e-01,   1.89459406e+02,\n",
       "          -1.32197098e+00,  -3.20943638e+00,   1.46217468e+02,\n",
       "          -5.19477800e-01],\n",
       "        [ -2.03735144e-02,  -2.82450996e-02,  -1.32197098e+00,\n",
       "           5.02238000e-01,   1.54499151e-01,   5.79979932e+00,\n",
       "           1.21932397e-02],\n",
       "        [  1.43797911e-02,  -3.42388229e-02,  -3.20943638e+00,\n",
       "           1.54499151e-01,   5.95539435e-01,   5.98832080e+00,\n",
       "           5.63358543e-02],\n",
       "        [ -3.09392328e+01,  -2.42099011e+00,   1.46217468e+02,\n",
       "           5.79979932e+00,   5.98832080e+00,   4.43516016e+03,\n",
       "          -1.45448050e+01],\n",
       "        [  1.08401502e-01,   2.86052374e-02,  -5.19477800e-01,\n",
       "           1.21932397e-02,   5.63358543e-02,  -1.45448050e+01,\n",
       "           8.09075475e-01]])]"
      ]
     },
     "execution_count": 75,
     "metadata": {},
     "output_type": "execute_result"
    }
   ],
   "source": [
    "qda.covariances_"
   ]
  },
  {
   "cell_type": "code",
   "execution_count": 9,
   "metadata": {
    "collapsed": false
   },
   "outputs": [
    {
     "name": "stdout",
     "output_type": "stream",
     "text": [
      "Train Score : 0.80033557047\n",
      "========================================\n",
      "Test Score : 0.830508474576\n"
     ]
    }
   ],
   "source": [
    "qda_score_train = qda.score(x_train,y_train)\n",
    "print \"Train Score :\", qda_score_train\n",
    "print \"=\" * 40\n",
    "qda_score_test = qda.score(x_test, y_test)\n",
    "print \"Test Score :\", qda_score_test"
   ]
  },
  {
   "cell_type": "markdown",
   "metadata": {},
   "source": [
    "# LDA"
   ]
  },
  {
   "cell_type": "code",
   "execution_count": 11,
   "metadata": {
    "collapsed": true
   },
   "outputs": [],
   "source": [
    "from sklearn.discriminant_analysis import LinearDiscriminantAnalysis\n",
    "LDA = LinearDiscriminantAnalysis(n_components = 2, solver = 'svd', store_covariance = True).fit(x,y)"
   ]
  },
  {
   "cell_type": "markdown",
   "metadata": {},
   "source": [
    "solver \n",
    "svd : Singular value decomposition (default). Does not compute the covariance matrix, therefore this solver is recommended for data with a large number of features.\n",
    "lsqr : Least squares solution, can be combined with shrinkage.\n",
    "eigen : Eigenvalue decomposition, can be combined with shrinkage"
   ]
  },
  {
   "cell_type": "code",
   "execution_count": 101,
   "metadata": {
    "collapsed": false
   },
   "outputs": [
    {
     "data": {
      "text/plain": [
       "array([[ -1.18717081e+00,  -3.54813783e+00,  -4.04744326e-02,\n",
       "         -2.89510309e-01,  -1.13110270e-01,   1.99004492e-03,\n",
       "         -2.44515430e-01]])"
      ]
     },
     "execution_count": 101,
     "metadata": {},
     "output_type": "execute_result"
    }
   ],
   "source": [
    "LDA.coef_"
   ]
  },
  {
   "cell_type": "code",
   "execution_count": 102,
   "metadata": {
    "collapsed": false
   },
   "outputs": [
    {
     "data": {
      "text/plain": [
       "array([ 6.17904688])"
      ]
     },
     "execution_count": 102,
     "metadata": {},
     "output_type": "execute_result"
    }
   ],
   "source": [
    "LDA.intercept_"
   ]
  },
  {
   "cell_type": "code",
   "execution_count": 103,
   "metadata": {
    "collapsed": false
   },
   "outputs": [
    {
     "data": {
      "text/plain": [
       "array([[  6.18234723e-01,  -2.07630798e-02,  -3.93466860e+00,\n",
       "          6.55020039e-02,   3.10145092e-02,  -1.91901442e+01,\n",
       "          7.60319995e-02],\n",
       "       [ -2.07630798e-02,   1.60841093e-01,   2.85286998e-01,\n",
       "         -7.04591694e-02,  -7.74079917e-02,  -1.00896071e+00,\n",
       "          8.62941885e-03],\n",
       "       [ -3.93466860e+00,   2.85286998e-01,   1.68608833e+02,\n",
       "         -3.37864757e+00,  -1.75255669e+00,   7.32804315e+01,\n",
       "         -4.51268237e-01],\n",
       "       [  6.55020039e-02,  -7.04591694e-02,  -3.37864757e+00,\n",
       "          1.21316274e+00,   3.70884787e-01,   9.23640893e+00,\n",
       "          5.75123512e-02],\n",
       "       [  3.10145092e-02,  -7.74079917e-02,  -1.75255669e+00,\n",
       "          3.70884787e-01,   6.44674517e-01,   7.81095327e+00,\n",
       "          3.72160769e-02],\n",
       "       [ -1.91901442e+01,  -1.00896071e+00,   7.32804315e+01,\n",
       "          9.23640893e+00,   7.81095327e+00,   2.30335567e+03,\n",
       "         -7.34662457e+00],\n",
       "       [  7.60319995e-02,   8.62941885e-03,  -4.51268237e-01,\n",
       "          5.75123512e-02,   3.72160769e-02,  -7.34662457e+00,\n",
       "          6.19758014e-01]])"
      ]
     },
     "execution_count": 103,
     "metadata": {},
     "output_type": "execute_result"
    }
   ],
   "source": [
    "LDA.covariance_"
   ]
  },
  {
   "cell_type": "code",
   "execution_count": 104,
   "metadata": {
    "collapsed": false
   },
   "outputs": [
    {
     "data": {
      "text/plain": [
       "array([[  2.53187614,   0.85245902,  30.02823315,   0.55373406,\n",
       "          0.32969035,  22.11788689,   2.64116576],\n",
       "       [  1.9502924 ,   0.31871345,  28.29143275,   0.47368421,\n",
       "          0.46491228,  48.3954076 ,   2.35087719]])"
      ]
     },
     "execution_count": 104,
     "metadata": {},
     "output_type": "execute_result"
    }
   ],
   "source": [
    "LDA.means_"
   ]
  },
  {
   "cell_type": "code",
   "execution_count": 80,
   "metadata": {
    "collapsed": false
   },
   "outputs": [
    {
     "data": {
      "text/plain": [
       "2"
      ]
     },
     "execution_count": 80,
     "metadata": {},
     "output_type": "execute_result"
    }
   ],
   "source": [
    "LDA.n_components"
   ]
  },
  {
   "cell_type": "code",
   "execution_count": 105,
   "metadata": {
    "collapsed": false
   },
   "outputs": [
    {
     "data": {
      "text/plain": [
       "array([ 1.])"
      ]
     },
     "execution_count": 105,
     "metadata": {},
     "output_type": "execute_result"
    }
   ],
   "source": [
    "LDA.explained_variance_ratio_ "
   ]
  },
  {
   "cell_type": "code",
   "execution_count": 12,
   "metadata": {
    "collapsed": false
   },
   "outputs": [
    {
     "name": "stdout",
     "output_type": "stream",
     "text": [
      "Train Score : 0.796979865772\n",
      "========================================\n",
      "Test Score : 0.796610169492\n"
     ]
    }
   ],
   "source": [
    "LDA_score_train = LDA.score(x_train,y_train)\n",
    "print \"Train Score :\", LDA_score_train\n",
    "print \"=\" * 40\n",
    "LDA_score_test = LDA.score(x_test, y_test)\n",
    "print \"Test Score :\", LDA_score_test"
   ]
  },
  {
   "cell_type": "markdown",
   "metadata": {},
   "source": [
    "# NB"
   ]
  },
  {
   "cell_type": "code",
   "execution_count": 13,
   "metadata": {
    "collapsed": false
   },
   "outputs": [],
   "source": [
    "from sklearn.naive_bayes import GaussianNB\n",
    "NB = GaussianNB().fit(x,y)"
   ]
  },
  {
   "cell_type": "code",
   "execution_count": 108,
   "metadata": {
    "collapsed": false
   },
   "outputs": [
    {
     "data": {
      "text/plain": [
       "array([ 0.,  1.])"
      ]
     },
     "execution_count": 108,
     "metadata": {},
     "output_type": "execute_result"
    }
   ],
   "source": [
    "NB.classes_"
   ]
  },
  {
   "cell_type": "code",
   "execution_count": 109,
   "metadata": {
    "collapsed": false
   },
   "outputs": [
    {
     "data": {
      "text/plain": [
       "array([ 549.,  342.])"
      ]
     },
     "execution_count": 109,
     "metadata": {},
     "output_type": "execute_result"
    }
   ],
   "source": [
    "NB.class_count_"
   ]
  },
  {
   "cell_type": "code",
   "execution_count": 111,
   "metadata": {
    "collapsed": false
   },
   "outputs": [
    {
     "data": {
      "text/plain": [
       "array([ 0.61616162,  0.38383838])"
      ]
     },
     "execution_count": 111,
     "metadata": {},
     "output_type": "execute_result"
    }
   ],
   "source": [
    "NB.class_prior_"
   ]
  },
  {
   "cell_type": "code",
   "execution_count": 113,
   "metadata": {
    "collapsed": false
   },
   "outputs": [
    {
     "data": {
      "text/plain": [
       "array([[  2.53187614,   0.85245902,  30.02823315,   0.55373406,\n",
       "          0.32969035,  22.11788689,   2.64116576],\n",
       "       [  1.9502924 ,   0.31871345,  28.29143275,   0.47368421,\n",
       "          0.46491228,  48.3954076 ,   2.35087719]])"
      ]
     },
     "execution_count": 113,
     "metadata": {},
     "output_type": "execute_result"
    }
   ],
   "source": [
    "NB.theta_"
   ]
  },
  {
   "cell_type": "code",
   "execution_count": 14,
   "metadata": {
    "collapsed": false
   },
   "outputs": [
    {
     "name": "stdout",
     "output_type": "stream",
     "text": [
      "Train Score : 0.788590604027\n",
      "========================================\n",
      "Test Score : 0.8\n"
     ]
    }
   ],
   "source": [
    "NB_score_train = NB.score(x_train,y_train)\n",
    "print \"Train Score :\", NB_score_train\n",
    "print \"=\" * 40\n",
    "NB_score_test = NB.score(x_test, y_test)\n",
    "print \"Test Score :\", NB_score_test"
   ]
  },
  {
   "cell_type": "markdown",
   "metadata": {},
   "source": [
    "### BernoulliNB 쓸수 없음 => 타겟변수뿐만아니라 독립변수도 0또는 1값을 가져야 하기때문"
   ]
  },
  {
   "cell_type": "markdown",
   "metadata": {},
   "source": [
    "# Multinomial NB"
   ]
  },
  {
   "cell_type": "code",
   "execution_count": 15,
   "metadata": {
    "collapsed": true
   },
   "outputs": [],
   "source": [
    "from sklearn.naive_bayes import MultinomialNB\n",
    "MNB = MultinomialNB().fit(x,y)"
   ]
  },
  {
   "cell_type": "code",
   "execution_count": 137,
   "metadata": {
    "collapsed": false
   },
   "outputs": [
    {
     "data": {
      "text/plain": [
       "array([ 0.,  1.])"
      ]
     },
     "execution_count": 137,
     "metadata": {},
     "output_type": "execute_result"
    }
   ],
   "source": [
    "MNB.classes_"
   ]
  },
  {
   "cell_type": "code",
   "execution_count": 138,
   "metadata": {
    "collapsed": false
   },
   "outputs": [
    {
     "data": {
      "text/plain": [
       "array([ 549.,  342.])"
      ]
     },
     "execution_count": 138,
     "metadata": {},
     "output_type": "execute_result"
    }
   ],
   "source": [
    "MNB.class_count_"
   ]
  },
  {
   "cell_type": "code",
   "execution_count": 16,
   "metadata": {
    "collapsed": false
   },
   "outputs": [
    {
     "name": "stdout",
     "output_type": "stream",
     "text": [
      "Train Score : 0.671140939597\n",
      "========================================\n",
      "Test Score : 0.718644067797\n"
     ]
    }
   ],
   "source": [
    "MNB_score_train = MNB.score(x_train,y_train)\n",
    "print \"Train Score :\", MNB_score_train\n",
    "print \"=\" * 40\n",
    "MNB_score_test = MNB.score(x_test, y_test)\n",
    "print \"Test Score :\", MNB_score_test"
   ]
  },
  {
   "cell_type": "code",
   "execution_count": 17,
   "metadata": {
    "collapsed": false
   },
   "outputs": [],
   "source": [
    "from sklearn.pipeline import Pipeline\n",
    "from sklearn.metrics import classification_report\n",
    "clf_1 = Pipeline([\n",
    "    ('clf', MultinomialNB())\n",
    "])"
   ]
  },
  {
   "cell_type": "code",
   "execution_count": 18,
   "metadata": {
    "collapsed": false
   },
   "outputs": [
    {
     "name": "stdout",
     "output_type": "stream",
     "text": [
      "             precision    recall  f1-score   support\n",
      "\n",
      "        0.0     0.7136    0.8686    0.7835       175\n",
      "        1.0     0.7195    0.4917    0.5842       120\n",
      "\n",
      "avg / total     0.7160    0.7153    0.7024       295\n",
      "\n"
     ]
    }
   ],
   "source": [
    "clf_1.fit(x_train, y_train)\n",
    "print(classification_report(y_test, clf_1.predict(x_test), digits = 4))"
   ]
  },
  {
   "cell_type": "markdown",
   "metadata": {},
   "source": [
    "# Decision Tree"
   ]
  },
  {
   "cell_type": "code",
   "execution_count": 17,
   "metadata": {
    "collapsed": true
   },
   "outputs": [],
   "source": [
    "from sklearn.tree import DecisionTreeClassifier\n",
    "tree1 = DecisionTreeClassifier(criterion = 'entropy', max_depth = 1, random_state = 0).fit(x,y)"
   ]
  },
  {
   "cell_type": "code",
   "execution_count": 18,
   "metadata": {
    "collapsed": false
   },
   "outputs": [],
   "source": [
    "from sklearn.tree import DecisionTreeClassifier\n",
    "model = DecisionTreeClassifier(criterion='entropy', max_depth=3, min_samples_leaf=5).fit(x_train, y_train)"
   ]
  },
  {
   "cell_type": "code",
   "execution_count": 19,
   "metadata": {
    "collapsed": false
   },
   "outputs": [
    {
     "name": "stdout",
     "output_type": "stream",
     "text": [
      "Train score :  0.979865771812\n",
      "----------------------------------------\n",
      "Test score :  0.742372881356\n"
     ]
    }
   ],
   "source": [
    "from sklearn import tree\n",
    "decision = tree.DecisionTreeClassifier()\n",
    "decision.fit(x_train, y_train)\n",
    "decision_score_train = decision.score(x_train, y_train)\n",
    "print \"Train score : \",decision_score_train\n",
    "decision_score_test = decision.score(x_test, y_test)\n",
    "print \"-\" * 40\n",
    "print \"Test score : \",decision_score_test"
   ]
  },
  {
   "cell_type": "code",
   "execution_count": null,
   "metadata": {
    "collapsed": true
   },
   "outputs": [],
   "source": []
  },
  {
   "cell_type": "markdown",
   "metadata": {},
   "source": [
    "# Percetron"
   ]
  },
  {
   "cell_type": "markdown",
   "metadata": {},
   "source": [
    "- iter에 따라 달라지는 것"
   ]
  },
  {
   "cell_type": "code",
   "execution_count": 213,
   "metadata": {
    "collapsed": false
   },
   "outputs": [
    {
     "name": "stdout",
     "output_type": "stream",
     "text": [
      "Train score :  0.627516778523\n",
      "========================================\n",
      "Test score :  0.593220338983\n"
     ]
    }
   ],
   "source": [
    "from sklearn.linear_model import Perceptron\n",
    "perceptron = Perceptron(n_iter = 1, eta0 = 0.3, random_state= 1).fit(x,y)\n",
    "perceptron_score_train = perceptron.score(x_train, y_train)\n",
    "print \"Train score : \", perceptron_score_train\n",
    "print \"=\" *40\n",
    "perceptron_score_test = perceptron.score(x_test, y_test)\n",
    "print \"Test score : \", perceptron_score_test"
   ]
  },
  {
   "cell_type": "code",
   "execution_count": 214,
   "metadata": {
    "collapsed": false
   },
   "outputs": [
    {
     "name": "stdout",
     "output_type": "stream",
     "text": [
      "Train score :  0.627516778523\n",
      "========================================\n",
      "Test score :  0.593220338983\n"
     ]
    }
   ],
   "source": [
    "perceptron = Perceptron(n_iter = 5, eta0 = 0.3, random_state= 1).fit(x,y)\n",
    "perceptron_score_train = perceptron.score(x_train, y_train)\n",
    "print \"Train score : \", perceptron_score_train\n",
    "print \"=\" *40\n",
    "perceptron_score_test = perceptron.score(x_test, y_test)\n",
    "print \"Test score : \", perceptron_score_test"
   ]
  },
  {
   "cell_type": "code",
   "execution_count": 215,
   "metadata": {
    "collapsed": false
   },
   "outputs": [
    {
     "name": "stdout",
     "output_type": "stream",
     "text": [
      "Train score :  0.694630872483\n",
      "========================================\n",
      "Test score :  0.691525423729\n"
     ]
    }
   ],
   "source": [
    "perceptron = Perceptron(n_iter = 10, eta0 = 0.3, random_state= 1).fit(x,y)\n",
    "perceptron_score_train = perceptron.score(x_train, y_train)\n",
    "print \"Train score : \", perceptron_score_train\n",
    "print \"=\" *40\n",
    "perceptron_score_test = perceptron.score(x_test, y_test)\n",
    "print \"Test score : \", perceptron_score_test"
   ]
  },
  {
   "cell_type": "code",
   "execution_count": 216,
   "metadata": {
    "collapsed": false
   },
   "outputs": [
    {
     "name": "stdout",
     "output_type": "stream",
     "text": [
      "Train score :  0.744966442953\n",
      "========================================\n",
      "Test score :  0.796610169492\n"
     ]
    }
   ],
   "source": [
    "perceptron = Perceptron(n_iter = 20, eta0 = 0.3, random_state= 1).fit(x,y)\n",
    "perceptron_score_train = perceptron.score(x_train, y_train)\n",
    "print \"Train score : \", perceptron_score_train\n",
    "print \"=\" *40\n",
    "perceptron_score_test = perceptron.score(x_test, y_test)\n",
    "print \"Test score : \", perceptron_score_test"
   ]
  },
  {
   "cell_type": "code",
   "execution_count": 217,
   "metadata": {
    "collapsed": false
   },
   "outputs": [
    {
     "name": "stdout",
     "output_type": "stream",
     "text": [
      "Train score :  0.771812080537\n",
      "========================================\n",
      "Test score :  0.796610169492\n"
     ]
    }
   ],
   "source": [
    "perceptron = Perceptron(n_iter = 100, eta0 = 0.3, random_state= 1).fit(x,y)\n",
    "perceptron_score_train = perceptron.score(x_train, y_train)\n",
    "print \"Train score : \", perceptron_score_train\n",
    "print \"=\" *40\n",
    "perceptron_score_test = perceptron.score(x_test, y_test)\n",
    "print \"Test score : \", perceptron_score_test"
   ]
  },
  {
   "cell_type": "code",
   "execution_count": 220,
   "metadata": {
    "collapsed": false
   },
   "outputs": [
    {
     "name": "stdout",
     "output_type": "stream",
     "text": [
      "Train score :  0.706375838926\n",
      "========================================\n",
      "Test score :  0.71186440678\n"
     ]
    }
   ],
   "source": [
    "perceptron = Perceptron(n_iter = 150, eta0 = 0.3, random_state= 1).fit(x,y)\n",
    "perceptron_score_train = perceptron.score(x_train, y_train)\n",
    "print \"Train score : \", perceptron_score_train\n",
    "print \"=\" *40\n",
    "perceptron_score_test = perceptron.score(x_test, y_test)\n",
    "print \"Test score : \", perceptron_score_test"
   ]
  },
  {
   "cell_type": "code",
   "execution_count": null,
   "metadata": {
    "collapsed": true
   },
   "outputs": [],
   "source": []
  },
  {
   "cell_type": "markdown",
   "metadata": {},
   "source": [
    "# SVM"
   ]
  },
  {
   "cell_type": "code",
   "execution_count": 21,
   "metadata": {
    "collapsed": false
   },
   "outputs": [
    {
     "name": "stdout",
     "output_type": "stream",
     "text": [
      "Train Score :  0.911073825503\n",
      "----------------------------------------\n",
      "Test Score :  0.684745762712\n"
     ]
    }
   ],
   "source": [
    "from sklearn.svm import SVC\n",
    "svm = SVC() # defalt 값은 rbf 이다\n",
    "svm.fit(x_train, y_train)\n",
    "svm_score_train = svm.score(x_train, y_train)\n",
    "print \"Train Score : \", svm_score_train\n",
    "svm_score_test = svm.score(x_test, y_test)\n",
    "print \"-\" * 40\n",
    "print \"Test Score : \", svm_score_test"
   ]
  },
  {
   "cell_type": "code",
   "execution_count": 22,
   "metadata": {
    "collapsed": false
   },
   "outputs": [
    {
     "name": "stdout",
     "output_type": "stream",
     "text": [
      "Train Score :  0.781879194631\n",
      "----------------------------------------\n",
      "Test Score :  0.796610169492\n"
     ]
    }
   ],
   "source": [
    "from sklearn.svm import SVC\n",
    "svm = SVC(kernel = 'linear')\n",
    "svm.fit(x_train, y_train)\n",
    "svm_score_train = svm.score(x_train, y_train)\n",
    "print \"Train Score : \", svm_score_train\n",
    "svm_score_test = svm.score(x_test, y_test)\n",
    "print \"-\" * 40\n",
    "print \"Test Score : \", svm_score_test"
   ]
  },
  {
   "cell_type": "code",
   "execution_count": 22,
   "metadata": {
    "collapsed": false
   },
   "outputs": [
    {
     "name": "stdout",
     "output_type": "stream",
     "text": [
      "Train Score :  0.627516778523\n",
      "----------------------------------------\n",
      "Test Score :  0.593220338983\n"
     ]
    }
   ],
   "source": [
    "from sklearn.svm import SVC\n",
    "svm = SVC(kernel = 'sigmoid')\n",
    "svm.fit(x_train, y_train)\n",
    "svm_score_train = svm.score(x_train, y_train)\n",
    "print \"Train Score : \", svm_score_train\n",
    "svm_score_test = svm.score(x_test, y_test)\n",
    "print \"-\" * 40\n",
    "print \"Test Score : \", svm_score_test"
   ]
  },
  {
   "cell_type": "code",
   "execution_count": null,
   "metadata": {
    "collapsed": false
   },
   "outputs": [],
   "source": [
    "from sklearn.svm import SVC\n",
    "svm = SVC(kernel = 'poly')\n",
    "svm.fit(x_train, y_train)\n",
    "svm_score_train = svm.score(x_train, y_train)\n",
    "print \"Train Score : \", svm_score_train\n",
    "svm_score_test = svm.score(x_test, y_test)\n",
    "print \"-\" * 40\n",
    "print \"Test Score : \", svm_score_test"
   ]
  },
  {
   "cell_type": "markdown",
   "metadata": {
    "collapsed": true
   },
   "source": [
    "# model comparing"
   ]
  },
  {
   "cell_type": "code",
   "execution_count": 23,
   "metadata": {
    "collapsed": false
   },
   "outputs": [
    {
     "data": {
      "text/html": [
       "<div>\n",
       "<table border=\"1\" class=\"dataframe\">\n",
       "  <thead>\n",
       "    <tr style=\"text-align: right;\">\n",
       "      <th></th>\n",
       "      <th>Model</th>\n",
       "      <th>Test_Score</th>\n",
       "      <th>Train_Score</th>\n",
       "    </tr>\n",
       "  </thead>\n",
       "  <tbody>\n",
       "    <tr>\n",
       "      <th>3</th>\n",
       "      <td>MultinomialNB</td>\n",
       "      <td>0.718644</td>\n",
       "      <td>0.671141</td>\n",
       "    </tr>\n",
       "    <tr>\n",
       "      <th>4</th>\n",
       "      <td>DecisionTree</td>\n",
       "      <td>0.742373</td>\n",
       "      <td>0.979866</td>\n",
       "    </tr>\n",
       "    <tr>\n",
       "      <th>1</th>\n",
       "      <td>LDA</td>\n",
       "      <td>0.796610</td>\n",
       "      <td>0.796980</td>\n",
       "    </tr>\n",
       "    <tr>\n",
       "      <th>5</th>\n",
       "      <td>SVM</td>\n",
       "      <td>0.796610</td>\n",
       "      <td>0.781879</td>\n",
       "    </tr>\n",
       "    <tr>\n",
       "      <th>2</th>\n",
       "      <td>GausianNB</td>\n",
       "      <td>0.800000</td>\n",
       "      <td>0.788591</td>\n",
       "    </tr>\n",
       "    <tr>\n",
       "      <th>0</th>\n",
       "      <td>QDA</td>\n",
       "      <td>0.830508</td>\n",
       "      <td>0.800336</td>\n",
       "    </tr>\n",
       "  </tbody>\n",
       "</table>\n",
       "</div>"
      ],
      "text/plain": [
       "           Model  Test_Score  Train_Score\n",
       "3  MultinomialNB    0.718644     0.671141\n",
       "4   DecisionTree    0.742373     0.979866\n",
       "1            LDA    0.796610     0.796980\n",
       "5            SVM    0.796610     0.781879\n",
       "2      GausianNB    0.800000     0.788591\n",
       "0            QDA    0.830508     0.800336"
      ]
     },
     "execution_count": 23,
     "metadata": {},
     "output_type": "execute_result"
    }
   ],
   "source": [
    "models = pd.DataFrame({\n",
    "        'Model'          : ['QDA', 'LDA', 'GausianNB','MultinomialNB', 'DecisionTree','SVM'],\n",
    "        'Train_Score' : [qda_score_train, LDA_score_train, NB_score_train, MNB_score_train, decision_score_train, svm_score_train],\n",
    "        'Test_Score'  : [qda_score_test, LDA_score_test, NB_score_test, MNB_score_test, decision_score_test, svm_score_test]\n",
    "    })\n",
    "models.sort_values(by='Test_Score', ascending=True)"
   ]
  },
  {
   "cell_type": "code",
   "execution_count": null,
   "metadata": {
    "collapsed": true
   },
   "outputs": [],
   "source": []
  },
  {
   "cell_type": "code",
   "execution_count": null,
   "metadata": {
    "collapsed": true
   },
   "outputs": [],
   "source": []
  }
 ],
 "metadata": {
  "kernelspec": {
   "display_name": "Python 2",
   "language": "python",
   "name": "python2"
  },
  "language_info": {
   "codemirror_mode": {
    "name": "ipython",
    "version": 2
   },
   "file_extension": ".py",
   "mimetype": "text/x-python",
   "name": "python",
   "nbconvert_exporter": "python",
   "pygments_lexer": "ipython2",
   "version": "2.7.13"
  }
 },
 "nbformat": 4,
 "nbformat_minor": 2
}
