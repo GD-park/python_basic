{
 "cells": [
  {
   "cell_type": "code",
   "execution_count": 26,
   "metadata": {
    "collapsed": false
   },
   "outputs": [],
   "source": [
    "class student():\n",
    "    \n",
    "    def __init__(self, name):\n",
    "        self.name = name\n",
    "        \n",
    "    def study(self):\n",
    "        print(\"normal people study the coding\")\n",
    "        \n",
    "    def coding(self):\n",
    "        print(\"only special people can do the python\")\n",
    "        \n",
    "# class DataScienceStudent():\n",
    "#     def __init__(self, name):\n",
    "#         self.name = name\n",
    "    \n",
    "#     def study(self):\n",
    "#         print(\"normal people start study\")\n",
    "        \n",
    "#     def coding(self):\n",
    "#         print(\"they start study about datascience\")\n",
    "\n",
    "class DataScienceStudent(student):\n",
    "    \n",
    "    def coding(self):\n",
    "        print (\"데사스는 jupyter notebook으로 개발합니다\")"
   ]
  },
  {
   "cell_type": "code",
   "execution_count": 29,
   "metadata": {
    "collapsed": true
   },
   "outputs": [],
   "source": [
    "student = student(\"jy\")"
   ]
  },
  {
   "cell_type": "code",
   "execution_count": 12,
   "metadata": {
    "collapsed": false,
    "scrolled": false
   },
   "outputs": [
    {
     "name": "stdout",
     "output_type": "stream",
     "text": [
      "normal people study the coding\n",
      "only special people can do the python\n"
     ]
    }
   ],
   "source": [
    "student.study()\n",
    "student.coding()"
   ]
  },
  {
   "cell_type": "code",
   "execution_count": 34,
   "metadata": {
    "collapsed": false
   },
   "outputs": [],
   "source": [
    "dss = DataScienceStudent(\"je\")"
   ]
  },
  {
   "cell_type": "code",
   "execution_count": 35,
   "metadata": {
    "collapsed": false
   },
   "outputs": [
    {
     "name": "stdout",
     "output_type": "stream",
     "text": [
      "데사스는 jupyter notebook으로 개발합니다\n"
     ]
    }
   ],
   "source": [
    "dss.coding()"
   ]
  },
  {
   "cell_type": "code",
   "execution_count": 38,
   "metadata": {
    "collapsed": true
   },
   "outputs": [],
   "source": [
    "class student():\n",
    "    \n",
    "    def __init__(self, name):\n",
    "        self.name = name\n",
    "        \n",
    "    def introduce():\n",
    "        print(\"저는 {name}입니다\".format(name = name))\n",
    "        \n",
    "        \n",
    "class DSStudent(student):\n",
    "    def introduce(self):\n",
    "        print(\"안녕하세요, 저는 데사스{name}\".format(name = self.name))"
   ]
  },
  {
   "cell_type": "code",
   "execution_count": 85,
   "metadata": {
    "collapsed": true
   },
   "outputs": [],
   "source": [
    "import time\n",
    "class Timer():\n",
    "    \n",
    "    def __init__(self, function):\n",
    "        self.function = function\n",
    "        \n",
    "    def __call__(self, *args, **kwargs):\n",
    "        start_time = time.time()\n",
    "        result = self.function(*args, **kwargs)\n",
    "        end_time = time.time()\n",
    "        print(\"{time}s\".format(time = end_time - start_time))\n",
    "        return result"
   ]
  },
  {
   "cell_type": "code",
   "execution_count": 86,
   "metadata": {
    "collapsed": true
   },
   "outputs": [],
   "source": [
    "@Timer\n",
    "def print_hello(name):\n",
    "    print(\"hellow world \" +   name)\n",
    "    "
   ]
  },
  {
   "cell_type": "code",
   "execution_count": 87,
   "metadata": {
    "collapsed": false
   },
   "outputs": [
    {
     "name": "stdout",
     "output_type": "stream",
     "text": [
      "hellow world jy\n",
      "0.000999927520752s\n"
     ]
    }
   ],
   "source": [
    "print_hello(\"jy\")"
   ]
  },
  {
   "cell_type": "code",
   "execution_count": null,
   "metadata": {
    "collapsed": true
   },
   "outputs": [],
   "source": []
  },
  {
   "cell_type": "code",
   "execution_count": 101,
   "metadata": {
    "collapsed": false
   },
   "outputs": [
    {
     "data": {
      "text/plain": [
       "False"
      ]
     },
     "execution_count": 101,
     "metadata": {},
     "output_type": "execute_result"
    }
   ],
   "source": [
    "class FastcampusPerson():\n",
    "    \n",
    "    def __init__(self, name, is_manager = False):\n",
    "        self.name = name\n",
    "        self.is_manager = is_manager\n",
    "        \n",
    "    def __str__(self):\n",
    "        return self.name\n",
    "    \n",
    "JE = FastcampusPerson(\"박지은\", is_manager = True)\n",
    "JY = FastcampusPerson(\"박지용\")\n",
    "\n",
    "\n",
    "JE.is_manager\n",
    "JY.is_manager"
   ]
  },
  {
   "cell_type": "code",
   "execution_count": 127,
   "metadata": {
    "collapsed": false
   },
   "outputs": [],
   "source": [
    "class FastcampusSchool():\n",
    "    \n",
    "    def __init__(self,name):\n",
    "        self.name = name\n",
    "        #student_list = []\n",
    "        \n",
    "    def add_student(self, manager, student):\n",
    "        if manager.is_manager:\n",
    "            print(\"{manager}이 {student}를 추가했습니다\".format(\n",
    "                manager = manager.name,\n",
    "                student = student.name,\n",
    "            ))\n",
    "        else:\n",
    "            print(\"학생은초대가 불가합니다\")\n",
    "        \n",
    "    def __str__(self):\n",
    "        return self.name\n",
    "        \n",
    "        "
   ]
  },
  {
   "cell_type": "code",
   "execution_count": 128,
   "metadata": {
    "collapsed": false
   },
   "outputs": [
    {
     "name": "stdout",
     "output_type": "stream",
     "text": [
      "데이터 사이언스 school\n"
     ]
    }
   ],
   "source": [
    "DSS = FastcampusSchool(\"데이터 사이언스 school\")\n",
    "print(DSS)"
   ]
  },
  {
   "cell_type": "code",
   "execution_count": 129,
   "metadata": {
    "collapsed": false
   },
   "outputs": [],
   "source": [
    "JY = FastcampusPerson(\"박지용\")\n",
    "JE = FastcampusPerson(\"박지은\", is_manager = True)"
   ]
  },
  {
   "cell_type": "code",
   "execution_count": 130,
   "metadata": {
    "collapsed": false
   },
   "outputs": [
    {
     "name": "stdout",
     "output_type": "stream",
     "text": [
      "학생은초대가 불가합니다\n"
     ]
    }
   ],
   "source": [
    "DSS.add_student(JY, JE)"
   ]
  },
  {
   "cell_type": "code",
   "execution_count": 131,
   "metadata": {
    "collapsed": false
   },
   "outputs": [
    {
     "name": "stdout",
     "output_type": "stream",
     "text": [
      "박지은이 박지용를 추가했습니다\n"
     ]
    }
   ],
   "source": [
    "DSS.add_student(JE, JY)"
   ]
  },
  {
   "cell_type": "code",
   "execution_count": null,
   "metadata": {
    "collapsed": true
   },
   "outputs": [],
   "source": [
    "class PermissionDeniedError(exception):\n",
    "    \n",
    "    def __init__(self, person):\n",
    "        self.person = person\n",
    "        \n",
    "    def __str__(self):\n",
    "        return(\"{name}은 매니저가 아니라서, 권한이 없습니다\".format(name = self.person.name))\n",
    "    \n",
    "    \n",
    "    \n",
    "    \n",
    "    "
   ]
  }
 ],
 "metadata": {
  "kernelspec": {
   "display_name": "Python 2",
   "language": "python",
   "name": "python2"
  },
  "language_info": {
   "codemirror_mode": {
    "name": "ipython",
    "version": 2
   },
   "file_extension": ".py",
   "mimetype": "text/x-python",
   "name": "python",
   "nbconvert_exporter": "python",
   "pygments_lexer": "ipython2",
   "version": "2.7.13"
  }
 },
 "nbformat": 4,
 "nbformat_minor": 2
}
