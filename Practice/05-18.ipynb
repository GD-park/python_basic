{
 "cells": [
  {
   "cell_type": "code",
   "execution_count": 26,
   "metadata": {
    "collapsed": false
   },
   "outputs": [],
   "source": [
    "class student():\n",
    "    \n",
    "    def __init__(self, name):\n",
    "        self.name = name\n",
    "        \n",
    "    def study(self):\n",
    "        print(\"normal people study the coding\")\n",
    "        \n",
    "    def coding(self):\n",
    "        print(\"only special people can do the python\")\n",
    "        \n",
    "# class DataScienceStudent():\n",
    "#     def __init__(self, name):\n",
    "#         self.name = name\n",
    "    \n",
    "#     def study(self):\n",
    "#         print(\"normal people start study\")\n",
    "        \n",
    "#     def coding(self):\n",
    "#         print(\"they start study about datascience\")\n",
    "\n",
    "class DataScienceStudent(student):\n",
    "    \n",
    "    def coding(self):\n",
    "        print (\"데사스는 jupyter notebook으로 개발합니다\")"
   ]
  },
  {
   "cell_type": "code",
   "execution_count": 29,
   "metadata": {
    "collapsed": true
   },
   "outputs": [],
   "source": [
    "student = student(\"jy\")"
   ]
  },
  {
   "cell_type": "code",
   "execution_count": 12,
   "metadata": {
    "collapsed": false,
    "scrolled": false
   },
   "outputs": [
    {
     "name": "stdout",
     "output_type": "stream",
     "text": [
      "normal people study the coding\n",
      "only special people can do the python\n"
     ]
    }
   ],
   "source": [
    "student.study()\n",
    "student.coding()"
   ]
  },
  {
   "cell_type": "code",
   "execution_count": 34,
   "metadata": {
    "collapsed": false
   },
   "outputs": [],
   "source": [
    "dss = DataScienceStudent(\"je\")"
   ]
  },
  {
   "cell_type": "code",
   "execution_count": 35,
   "metadata": {
    "collapsed": false
   },
   "outputs": [
    {
     "name": "stdout",
     "output_type": "stream",
     "text": [
      "데사스는 jupyter notebook으로 개발합니다\n"
     ]
    }
   ],
   "source": [
    "dss.coding()"
   ]
  },
  {
   "cell_type": "code",
   "execution_count": 38,
   "metadata": {
    "collapsed": true
   },
   "outputs": [],
   "source": [
    "class student():\n",
    "    \n",
    "    def __init__(self, name):\n",
    "        self.name = name\n",
    "        \n",
    "    def introduce():\n",
    "        print(\"저는 {name}입니다\".format(name = name))\n",
    "        \n",
    "        \n",
    "class DSStudent(student):\n",
    "    def introduce(self):\n",
    "        print(\"안녕하세요, 저는 데사스{name}\".format(name = self.name))"
   ]
  },
  {
   "cell_type": "code",
   "execution_count": 85,
   "metadata": {
    "collapsed": true
   },
   "outputs": [],
   "source": [
    "import time\n",
    "class Timer():\n",
    "    \n",
    "    def __init__(self, function):\n",
    "        self.function = function\n",
    "        \n",
    "    def __call__(self, *args, **kwargs):\n",
    "        start_time = time.time()\n",
    "        result = self.function(*args, **kwargs)\n",
    "        end_time = time.time()\n",
    "        print(\"{time}s\".format(time = end_time - start_time))\n",
    "        return result"
   ]
  },
  {
   "cell_type": "code",
   "execution_count": 86,
   "metadata": {
    "collapsed": true
   },
   "outputs": [],
   "source": [
    "@Timer\n",
    "def print_hello(name):\n",
    "    print(\"hellow world \" +   name)\n",
    "    "
   ]
  },
  {
   "cell_type": "code",
   "execution_count": 87,
   "metadata": {
    "collapsed": false
   },
   "outputs": [
    {
     "name": "stdout",
     "output_type": "stream",
     "text": [
      "hellow world jy\n",
      "0.000999927520752s\n"
     ]
    }
   ],
   "source": [
    "print_hello(\"jy\")"
   ]
  },
  {
   "cell_type": "code",
   "execution_count": null,
   "metadata": {
    "collapsed": true
   },
   "outputs": [],
   "source": []
  },
  {
   "cell_type": "code",
   "execution_count": null,
   "metadata": {
    "collapsed": true
   },
   "outputs": [],
   "source": []
  },
  {
   "cell_type": "code",
   "execution_count": null,
   "metadata": {
    "collapsed": true
   },
   "outputs": [],
   "source": []
  },
  {
   "cell_type": "code",
   "execution_count": null,
   "metadata": {
    "collapsed": true
   },
   "outputs": [],
   "source": []
  }
 ],
 "metadata": {
  "kernelspec": {
   "display_name": "Python 2",
   "language": "python",
   "name": "python2"
  },
  "language_info": {
   "codemirror_mode": {
    "name": "ipython",
    "version": 2
   },
   "file_extension": ".py",
   "mimetype": "text/x-python",
   "name": "python",
   "nbconvert_exporter": "python",
   "pygments_lexer": "ipython2",
   "version": "2.7.13"
  }
 },
 "nbformat": 4,
 "nbformat_minor": 2
}
