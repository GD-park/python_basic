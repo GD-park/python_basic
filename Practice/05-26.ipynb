{
 "cells": [
  {
   "cell_type": "code",
   "execution_count": 1,
   "metadata": {
    "collapsed": false
   },
   "outputs": [
    {
     "name": "stdout",
     "output_type": "stream",
     "text": [
      "abcdef\n",
      "\n",
      "abcdef\\n\n"
     ]
    }
   ],
   "source": [
    "a = 'abcdef\\n'\n",
    "print a\n",
    "\n",
    "# raw string\n",
    "b = r'abcdef\\n'\n",
    "print b"
   ]
  },
  {
   "cell_type": "code",
   "execution_count": 2,
   "metadata": {
    "collapsed": false
   },
   "outputs": [
    {
     "name": "stdout",
     "output_type": "stream",
     "text": [
      "<_sre.SRE_Match object at 0x03859480>\n",
      "iii\n",
      "None\n"
     ]
    }
   ],
   "source": [
    "# 첫번째꺼 찾으면 멈춤\n",
    "import re\n",
    "\n",
    "match = re.search(r'iii', 'piiig')\n",
    "print match\n",
    "print match.group()\n",
    "\n",
    "match = re.search(r'iiiig', 'piiig')\n",
    "print match"
   ]
  },
  {
   "cell_type": "code",
   "execution_count": 3,
   "metadata": {
    "collapsed": false
   },
   "outputs": [
    {
     "name": "stdout",
     "output_type": "stream",
     "text": [
      "iig\n",
      "123\n",
      "123\n",
      "abc\n",
      "ab0\n"
     ]
    }
   ],
   "source": [
    "m = re.search(r'..g', 'piiig')\n",
    "print m.group()\n",
    "\n",
    "m = re.search(r'\\d\\d\\d', 'p123g') \n",
    "print m.group()\n",
    "\n",
    "m = re.search(r'\\d\\d\\d', '오마이갓123이럴수가') \n",
    "print m.group()\n",
    "\n",
    "m = re.search(r'\\w\\w\\w', '@@abcd!!')\n",
    "print m.group()\n",
    "\n",
    "m = re.search(r'\\w\\w\\w', '@@ab0!!')\n",
    "print m.group()"
   ]
  },
  {
   "cell_type": "code",
   "execution_count": 5,
   "metadata": {
    "collapsed": false
   },
   "outputs": [
    {
     "name": "stdout",
     "output_type": "stream",
     "text": [
      "jiyong5411@gmail.com <type 'str'>\n",
      "()\n"
     ]
    }
   ],
   "source": [
    "m = re.search(r'[\\w.-]+@[\\w.-]+',\n",
    "              \"My email is jiyong5411@gmail.com\")\n",
    "\n",
    "print m.group(), type(m.group())\n",
    "print m.groups()"
   ]
  },
  {
   "cell_type": "code",
   "execution_count": 7,
   "metadata": {
    "collapsed": false
   },
   "outputs": [
    {
     "name": "stdout",
     "output_type": "stream",
     "text": [
      "jiyong5411@gmail.com\n",
      "\n",
      "('jiyong5411', 'gmail.com')\n",
      "jiyong5411\n",
      "gmail.com\n"
     ]
    }
   ],
   "source": [
    "m = re.search(r'([\\w.-]+)@([\\w.-]+)',\n",
    "              \"My email is jiyong5411@gmail.com\")\n",
    "\n",
    "print m.group()\n",
    "print ''\n",
    "print m.groups()\n",
    "\n",
    "print m.group(1)\n",
    "print m.group(2)"
   ]
  },
  {
   "cell_type": "code",
   "execution_count": 11,
   "metadata": {
    "collapsed": false,
    "scrolled": true
   },
   "outputs": [
    {
     "name": "stdout",
     "output_type": "stream",
     "text": [
      "realism@yna.co.kr\n",
      "wani@hani.co.kr\n"
     ]
    }
   ],
   "source": [
    "import requests\n",
    "from bs4 import BeautifulSoup\n",
    "\n",
    "def get_news_content(url):\n",
    "    response = requests.get(url)\n",
    "    content = response.text\n",
    "\n",
    "    soup = BeautifulSoup(content)\n",
    "\n",
    "    div = soup.find('div', attrs = {'id' : 'harmonyContainer'})\n",
    "    \n",
    "    content = ''\n",
    "    for paragraph in div.find_all('p'):\n",
    "        content += paragraph.get_text()\n",
    "        \n",
    "    return content.encode('utf-8')\n",
    "        \n",
    "news1 = get_news_content('http://media.daum.net/foreign/newsview?newsid=20160921114543616')\n",
    "news2 = get_news_content('http://media.daum.net/digital/newsview?newsid=20160920180606199')\n",
    "\n",
    "\n",
    "pattern = r'([\\w.-]+)@([\\w.-]+)'\n",
    "print re.search(pattern, news1).group()\n",
    "print re.search(pattern, news2).group()"
   ]
  },
  {
   "cell_type": "code",
   "execution_count": null,
   "metadata": {
    "collapsed": true
   },
   "outputs": [],
   "source": []
  },
  {
   "cell_type": "code",
   "execution_count": null,
   "metadata": {
    "collapsed": true
   },
   "outputs": [],
   "source": []
  },
  {
   "cell_type": "code",
   "execution_count": null,
   "metadata": {
    "collapsed": true
   },
   "outputs": [],
   "source": []
  }
 ],
 "metadata": {
  "kernelspec": {
   "display_name": "Python 2",
   "language": "python",
   "name": "python2"
  },
  "language_info": {
   "codemirror_mode": {
    "name": "ipython",
    "version": 2
   },
   "file_extension": ".py",
   "mimetype": "text/x-python",
   "name": "python",
   "nbconvert_exporter": "python",
   "pygments_lexer": "ipython2",
   "version": "2.7.13"
  }
 },
 "nbformat": 4,
 "nbformat_minor": 2
}
