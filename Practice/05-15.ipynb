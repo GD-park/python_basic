{
 "cells": [
  {
   "cell_type": "code",
   "execution_count": 1,
   "metadata": {
    "collapsed": false
   },
   "outputs": [
    {
     "name": "stdout",
     "output_type": "stream",
     "text": [
      "314.0\n",
      "1256.0\n",
      "62.8\n",
      "125.6\n"
     ]
    }
   ],
   "source": [
    "class Circle(object):\n",
    "    \n",
    "    def __init__(self, r):\n",
    "        self.radius = r\n",
    "        \n",
    "    def get_area(self):\n",
    "        return 3.14 * self.radius * self.radius\n",
    "        \n",
    "    def get_length(self):\n",
    "        return 3.14 * 2 * self.radius\n",
    "    \n",
    "\n",
    "c1 = Circle(10)\n",
    "c2 = Circle(20)\n",
    "\n",
    "print c1.get_area()\n",
    "print c2.get_area()\n",
    "\n",
    "print c1.get_length()\n",
    "print c2.get_length()"
   ]
  },
  {
   "cell_type": "code",
   "execution_count": 2,
   "metadata": {
    "collapsed": false
   },
   "outputs": [
    {
     "name": "stdout",
     "output_type": "stream",
     "text": [
      "deposit is 1100000\n",
      "1464100.0\n"
     ]
    }
   ],
   "source": [
    "\n",
    "class BankAccount(object):\n",
    "    def __init__(self, amount):\n",
    "        self.amount = amount\n",
    "        \n",
    "    def withdraw(self, money):\n",
    "        if self.amount >= money:\n",
    "            self.amount -= money\n",
    "        else:\n",
    "            print \"you can't\"\n",
    "        \n",
    "    def save(self, money):\n",
    "        self.amount += money\n",
    "        \n",
    "    def check(self):\n",
    "        print 'deposit is', self.amount\n",
    "        \n",
    "    def check_interest(self, interest_month, duration_month):\n",
    "        return self.amount * ((1 + interest_month) ** duration_month)\n",
    "    \n",
    "aaron = BankAccount(100000)\n",
    "bob = BankAccount(1000)\n",
    "\n",
    "aaron.save(1000000)\n",
    "aaron.check()\n",
    "print aaron.check_interest(0.1, 3)"
   ]
  },
  {
   "cell_type": "code",
   "execution_count": 3,
   "metadata": {
    "collapsed": false
   },
   "outputs": [
    {
     "name": "stdout",
     "output_type": "stream",
     "text": [
      "True\n",
      "False\n"
     ]
    }
   ],
   "source": [
    "import datetime as dt\n",
    "\n",
    "class VideoManager(object):\n",
    "    def __init__(self):\n",
    "        self.video_dict = {}\n",
    "        \n",
    "    def add_video(self, title, date = dt.datetime.now()):\n",
    "        self.video_dict[title] = date\n",
    "        \n",
    "    def find_video(self, title):\n",
    "        if title in self.video_dict:\n",
    "            return title\n",
    "        else:\n",
    "            return 'no video named', title\n",
    "        \n",
    "    def is_new_release(self, title):\n",
    "        now = dt.datetime.now()\n",
    "        week_ago = now - dt.timedelta(days = 7)\n",
    "        \n",
    "        '''if self.video_dict[title] >= week_ago:\n",
    "            return True\n",
    "        else:\n",
    "            return False'''\n",
    "        \n",
    "        return self.video_dict[title] >= week_ago\n",
    "    \n",
    "    \n",
    "#print dt.datetime.now()\n",
    "#print dt.datetime(2017, 1, 17, 18, 24, 0)\n",
    "\n",
    "manager = VideoManager()\n",
    "manager.add_video('transformer')\n",
    "manager.add_video('abc', dt.datetime(2017, 1, 7, 18, 24, 0))\n",
    "\n",
    "print manager.is_new_release('transformer')\n",
    "print manager.is_new_release('abc')"
   ]
  }
 ],
 "metadata": {
  "kernelspec": {
   "display_name": "Python 2",
   "language": "python",
   "name": "python2"
  },
  "language_info": {
   "codemirror_mode": {
    "name": "ipython",
    "version": 2
   },
   "file_extension": ".py",
   "mimetype": "text/x-python",
   "name": "python",
   "nbconvert_exporter": "python",
   "pygments_lexer": "ipython2",
   "version": "2.7.13"
  }
 },
 "nbformat": 4,
 "nbformat_minor": 2
}
