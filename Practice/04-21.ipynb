{
 "cells": [
  {
   "cell_type": "code",
   "execution_count": 13,
   "metadata": {
    "collapsed": false
   },
   "outputs": [
    {
     "data": {
      "text/plain": [
       "'tuesday'"
      ]
     },
     "execution_count": 13,
     "metadata": {},
     "output_type": "execute_result"
    }
   ],
   "source": [
    "def is_leap_year(year):\n",
    "    return (year % 4 == 0 and year % 100 != 0) or year % 400 == 0\n",
    "\n",
    "def calendar(month, day):\n",
    "    common_year = [31, 28 + int(is_leap_year(2016)), 31, 30, 31, 30, 31, 31, 30, 31, 30, 31]\n",
    "    date_list = [\"thurs\", \"fri\", \"satur\", \"sun\",\"mon\",\"tues\",\"wednes\"]\n",
    "    \n",
    "    changed_day = {}\n",
    "    for i in range(7):\n",
    "        changed_day[i] = date_list[i] + \"day\"\n",
    "        \n",
    "    temp_day = 0\n",
    "    \n",
    "    if is_leap_year(2016):\n",
    "        for i in range(month-1):\n",
    "            temp_day += common_year[i]\n",
    "    else:\n",
    "        for i in range(month-1):\n",
    "            temp_day += common_year[i]\n",
    "            \n",
    "    temp_day += day\n",
    "    return changed_day[temp_day % 7]\n",
    "\n",
    "calendar( 5, 10)"
   ]
  }
 ],
 "metadata": {
  "kernelspec": {
   "display_name": "Python 2",
   "language": "python",
   "name": "python2"
  },
  "language_info": {
   "codemirror_mode": {
    "name": "ipython",
    "version": 2
   },
   "file_extension": ".py",
   "mimetype": "text/x-python",
   "name": "python",
   "nbconvert_exporter": "python",
   "pygments_lexer": "ipython2",
   "version": "2.7.13"
  }
 },
 "nbformat": 4,
 "nbformat_minor": 2
}
