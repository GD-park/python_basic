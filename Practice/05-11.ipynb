{
 "cells": [
  {
   "cell_type": "code",
   "execution_count": 8,
   "metadata": {
    "collapsed": false
   },
   "outputs": [
    {
     "name": "stdout",
     "output_type": "stream",
     "text": [
      "30\n"
     ]
    }
   ],
   "source": [
    "def max_val(nums):\n",
    "    mval = nums[0]\n",
    "    for i in nums:\n",
    "        if mval < i:\n",
    "            mval = i\n",
    "            \n",
    "    return mval\n",
    "\n",
    "b = [30, 1, 2, 4, 7, 9]\n",
    "\n",
    "print max_val(b)"
   ]
  },
  {
   "cell_type": "code",
   "execution_count": 6,
   "metadata": {
    "collapsed": false
   },
   "outputs": [
    {
     "name": "stdout",
     "output_type": "stream",
     "text": [
      "2\n"
     ]
    }
   ],
   "source": [
    "def min_val(nums):\n",
    "    mval = nums[0]\n",
    "    for i in nums:\n",
    "        if mval > i:\n",
    "            mval = i\n",
    "    return mval\n",
    "b = [30,2,4]\n",
    "print min_val(b)"
   ]
  },
  {
   "cell_type": "code",
   "execution_count": 14,
   "metadata": {
    "collapsed": false
   },
   "outputs": [
    {
     "data": {
      "text/plain": [
       "[10, 6, 5, 4, 1]"
      ]
     },
     "execution_count": 14,
     "metadata": {},
     "output_type": "execute_result"
    }
   ],
   "source": [
    "a = [1, 10, 4, 5, 6]\n",
    "a.sort(reverse = True)\n",
    "a"
   ]
  },
  {
   "cell_type": "code",
   "execution_count": 15,
   "metadata": {
    "collapsed": true
   },
   "outputs": [],
   "source": [
    "def merge_sort(arr, desc = False):\n",
    "    if len(arr) <= 1: return arr      # only 2 or more\n",
    "    half = len(arr) // 2              # divide by 2\n",
    "    L = merge_sort(arr[:half], desc)  # Left: first half\n",
    "    R = merge_sort(arr[half:], desc)  # Right: except first half\n",
    "    mer = []                          # array for result\n",
    "      \n",
    "    while len(L) > 0 and len(R) > 0:\n",
    "        if (L[0] > R[0] and not desc) or (L[0] < R[0] and desc):\n",
    "            mer.append(R[0]);  R.pop(0)  # append R[0] and remove\n",
    "        else:\n",
    "            mer.append(L[0]);  L.pop(0)  # append L[0] and remove\n",
    "    # if out of L or R, append rest\n",
    "    if len(L) > 0: mer += L\n",
    "    if len(R) > 0: mer += R\n",
    "    return mer    # return"
   ]
  },
  {
   "cell_type": "code",
   "execution_count": 16,
   "metadata": {
    "collapsed": false
   },
   "outputs": [
    {
     "name": "stdout",
     "output_type": "stream",
     "text": [
      "  Unsorted: [6, 4, 1, 7, 8, 5, 2, 3]\n",
      " Ascending: [1, 2, 3, 4, 5, 6, 7, 8]\n",
      "Descending: [8, 7, 6, 5, 4, 3, 2, 1]\n"
     ]
    }
   ],
   "source": [
    "unsorted = [6, 4, 1, 7, 8, 5, 2, 3]\n",
    "print(\"  Unsorted: %s\" % unsorted)\n",
    "print(\" Ascending: %s\" % merge_sort(unsorted) )\n",
    "print(\"Descending: %s\" % merge_sort(unsorted, True) )"
   ]
  }
 ],
 "metadata": {
  "kernelspec": {
   "display_name": "Python 2",
   "language": "python",
   "name": "python2"
  },
  "language_info": {
   "codemirror_mode": {
    "name": "ipython",
    "version": 2
   },
   "file_extension": ".py",
   "mimetype": "text/x-python",
   "name": "python",
   "nbconvert_exporter": "python",
   "pygments_lexer": "ipython2",
   "version": "2.7.13"
  }
 },
 "nbformat": 4,
 "nbformat_minor": 2
}
